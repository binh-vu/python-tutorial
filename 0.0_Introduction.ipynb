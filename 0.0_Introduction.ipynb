{
 "cells": [
  {
   "cell_type": "code",
   "execution_count": 1,
   "metadata": {
    "collapsed": true
   },
   "outputs": [],
   "source": [
    "## Ignore the code below, its purpose is making this notebook looks fancy"
   ]
  },
  {
   "cell_type": "markdown",
   "metadata": {},
   "source": [
    "# Python at a glance\n",
    "\n",
    "* I assump that you know some \"high\" level languages like C...\n",
    "* A sample code from C\n",
    "\n",
    "<pre>\n",
    "    for (int i = 0; i <= 6; i++) {\n",
    "        if (i % 2 == 0) {\n",
    "            printf(\"Even number: %d\\n\", i);\n",
    "        }\n",
    "    }\n",
    "</pre>\n",
    "* A sample code from Python"
   ]
  },
  {
   "cell_type": "code",
   "execution_count": 4,
   "metadata": {
    "collapsed": false
   },
   "outputs": [
    {
     "name": "stdout",
     "output_type": "stream",
     "text": [
      "Even number: 0\n",
      "Even number: 2\n",
      "Even number: 4\n",
      "Even number: 6\n"
     ]
    }
   ],
   "source": [
    "for number in [0, 1, 2, 3, 4, 5, 6]:\n",
    "    if number % 2 == 0:\n",
    "        print \"Even number:\", number"
   ]
  },
  {
   "cell_type": "markdown",
   "metadata": {},
   "source": [
    "What do we see?\n",
    "\n",
    "* Easy interpret the meaning of the code\n",
    "* No parenthese () or brackets {}\n",
    "* No semicolon. Yayy!\n",
    "* Wait... How do we express code block like in C?\n",
    "    + Using indentation\n",
    "* No static typing :("
   ]
  },
  {
   "cell_type": "markdown",
   "metadata": {},
   "source": [
    "# Basic of Python\n",
    "\n",
    "Note: There are some other rules and syntactic sugar in Python. But I want to keep things as simple as possible."
   ]
  },
  {
   "cell_type": "markdown",
   "metadata": {},
   "source": [
    "Number, expression syntax is the same with other languages: +, -, *, %, /, (), ..."
   ]
  },
  {
   "cell_type": "code",
   "execution_count": 6,
   "metadata": {
    "collapsed": false
   },
   "outputs": [
    {
     "data": {
      "text/plain": [
       "5.0"
      ]
     },
     "execution_count": 6,
     "metadata": {},
     "output_type": "execute_result"
    }
   ],
   "source": [
    "(50 - 5.0 * 6) / 4"
   ]
  },
  {
   "cell_type": "markdown",
   "metadata": {},
   "source": [
    "String can be enclosed in single quotes '...' or double quotes \"...\"\n",
    "\\ can be used to escape quotes"
   ]
  },
  {
   "cell_type": "code",
   "execution_count": 8,
   "metadata": {
    "collapsed": false
   },
   "outputs": [
    {
     "data": {
      "text/plain": [
       "\"He doesn't like it\""
      ]
     },
     "execution_count": 8,
     "metadata": {},
     "output_type": "execute_result"
    }
   ],
   "source": [
    "'He can '"
   ]
  },
  {
   "cell_type": "code",
   "execution_count": null,
   "metadata": {
    "collapsed": true
   },
   "outputs": [],
   "source": [
    "\"He \""
   ]
  }
 ],
 "metadata": {
  "kernelspec": {
   "display_name": "Python 2",
   "language": "python",
   "name": "python2"
  },
  "language_info": {
   "codemirror_mode": {
    "name": "ipython",
    "version": 2
   },
   "file_extension": ".py",
   "mimetype": "text/x-python",
   "name": "python",
   "nbconvert_exporter": "python",
   "pygments_lexer": "ipython2",
   "version": "2.7.9"
  }
 },
 "nbformat": 4,
 "nbformat_minor": 0
}
