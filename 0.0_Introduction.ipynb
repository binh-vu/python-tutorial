{
 "cells": [
  {
   "cell_type": "code",
   "execution_count": 1,
   "metadata": {
    "collapsed": true
   },
   "outputs": [],
   "source": [
    "## Ignore the code below, its purpose is making this notebook looks fancy"
   ]
  },
  {
   "cell_type": "markdown",
   "metadata": {},
   "source": [
    "# Python at a glance\n",
    "\n",
    "* I assump that you know some \"high\" level languages like C...\n",
    "* A sample code from C\n",
    "\n",
    "<pre>\n",
    "    for (int i = 0; i <= 6; i++) {\n",
    "        if (i % 2 == 0) {\n",
    "            printf(\"Even number: %d\\n\", i);\n",
    "        }\n",
    "    }\n",
    "</pre>\n",
    "* A sample code from Python"
   ]
  },
  {
   "cell_type": "code",
   "execution_count": 11,
   "metadata": {
    "collapsed": false
   },
   "outputs": [
    {
     "name": "stdout",
     "output_type": "stream",
     "text": [
      "Even number: 0\n",
      "Even number: 2\n",
      "Even number: 4\n",
      "Even number: 6\n"
     ]
    }
   ],
   "source": [
    "for number in [0, 1, 2, 3, 4, 5, 6]:\n",
    "    if number % 2 == 0:\n",
    "        print \"Even number:\", number"
   ]
  },
  {
   "cell_type": "markdown",
   "metadata": {},
   "source": [
    "What do we see?\n",
    "\n",
    "* Easy interpret the meaning of the code\n",
    "* No parenthese () or brackets {}\n",
    "* No semicolon. Yayy!\n",
    "* Wait... How do we express code block like in C?\n",
    "    + Using indentation\n",
    "* No static typing :("
   ]
  },
  {
   "cell_type": "markdown",
   "metadata": {},
   "source": [
    "# Basic of Python\n",
    "\n",
    "Note: There are some other rules and syntactic sugar in Python. But I want to keep things as simple as possible."
   ]
  },
  {
   "cell_type": "markdown",
   "metadata": {},
   "source": [
    "### Number"
   ]
  },
  {
   "cell_type": "markdown",
   "metadata": {},
   "source": [
    "Expression syntax and the operators: <code>+, -, *, %, /</code> work just like in most other languages."
   ]
  },
  {
   "cell_type": "code",
   "execution_count": 12,
   "metadata": {
    "collapsed": false
   },
   "outputs": [
    {
     "data": {
      "text/plain": [
       "5.0"
      ]
     },
     "execution_count": 12,
     "metadata": {},
     "output_type": "execute_result"
    }
   ],
   "source": [
    "(50 - 5.0 * 6) / 4"
   ]
  },
  {
   "cell_type": "markdown",
   "metadata": {},
   "source": [
    "<code>**</code> operator can be used to calculate powers"
   ]
  },
  {
   "cell_type": "code",
   "execution_count": 15,
   "metadata": {
    "collapsed": false
   },
   "outputs": [
    {
     "data": {
      "text/plain": [
       "25"
      ]
     },
     "execution_count": 15,
     "metadata": {},
     "output_type": "execute_result"
    }
   ],
   "source": [
    "5 ** 2"
   ]
  },
  {
   "cell_type": "markdown",
   "metadata": {},
   "source": [
    "### String"
   ]
  },
  {
   "cell_type": "markdown",
   "metadata": {},
   "source": [
    "* String can be enclosed in single quotes <code>'...'</code> or double quotes <code>\"...\"</code>.\n",
    "\n",
    "* <code>\\</code>can be used to escape quotes"
   ]
  },
  {
   "cell_type": "code",
   "execution_count": 17,
   "metadata": {
    "collapsed": false,
    "scrolled": true
   },
   "outputs": [
    {
     "data": {
      "text/plain": [
       "\"I can eat glass it doesn't hurt me\""
      ]
     },
     "execution_count": 17,
     "metadata": {},
     "output_type": "execute_result"
    }
   ],
   "source": [
    "\"I can eat glass it doesn't hurt me\""
   ]
  },
  {
   "cell_type": "code",
   "execution_count": 14,
   "metadata": {
    "collapsed": false
   },
   "outputs": [
    {
     "data": {
      "text/plain": [
       "\"I can eat glass it doesn't hurt me\""
      ]
     },
     "execution_count": 14,
     "metadata": {},
     "output_type": "execute_result"
    }
   ],
   "source": [
    "'I can eat glass it doesn\\'t hurt me'"
   ]
  },
  {
   "cell_type": "markdown",
   "metadata": {},
   "source": [
    "* Print a string using **<code>print</code>** statement.\n",
    "* **<code>print</code>** produces a more readable output by printing escaped and special characters.\n",
    "* If you don’t want characters prefaced by <code>\\</code> to be interpreted as special characters, you can use raw strings by adding an r before the first quote"
   ]
  },
  {
   "cell_type": "code",
   "execution_count": 22,
   "metadata": {
    "collapsed": false
   },
   "outputs": [
    {
     "name": "stdout",
     "output_type": "stream",
     "text": [
      "I can eat glass.\n",
      "It doesn't hurt me\n",
      "---------------\n",
      "I can eat glass.\\n It doesn\\'t hurt me\n"
     ]
    }
   ],
   "source": [
    "print 'I can eat glass.\\nIt doesn\\'t hurt me'\n",
    "print '---------------'\n",
    "print r'I can eat glass.\\n It doesn\\'t hurt me'"
   ]
  },
  {
   "cell_type": "markdown",
   "metadata": {},
   "source": [
    "* String literals can span multiple lines using triple-quotes: <code>\"\"\"...\"\"\"</code> or <code>'''...'''</code>"
   ]
  },
  {
   "cell_type": "code",
   "execution_count": 24,
   "metadata": {
    "collapsed": false
   },
   "outputs": [
    {
     "name": "stdout",
     "output_type": "stream",
     "text": [
      "I can eat glass\n",
      "It doesn't hurt me\n"
     ]
    }
   ],
   "source": [
    "print '''I can eat glass\n",
    "It doesn't hurt me'''"
   ]
  },
  {
   "cell_type": "markdown",
   "metadata": {},
   "source": [
    "* Concatenate string using **<code>+</code>**\n",
    "* Repeat a string using **<code>*</code>**"
   ]
  },
  {
   "cell_type": "code",
   "execution_count": 26,
   "metadata": {
    "collapsed": false
   },
   "outputs": [
    {
     "name": "stdout",
     "output_type": "stream",
     "text": [
      "AB\n",
      "AAA\n"
     ]
    }
   ],
   "source": [
    "print 'A' + 'B'\n",
    "print 'A' * 3"
   ]
  },
  {
   "cell_type": "markdown",
   "metadata": {},
   "source": [
    "* Access a character in string using index, first index is 0\n",
    "* Indices may also be negative numbers, to start counting from the right"
   ]
  },
  {
   "cell_type": "code",
   "execution_count": 28,
   "metadata": {
    "collapsed": false
   },
   "outputs": [
    {
     "name": "stdout",
     "output_type": "stream",
     "text": [
      "p\n",
      "n\n",
      "o\n"
     ]
    }
   ],
   "source": [
    "word = 'python'\n",
    "print word[0]\n",
    "print word[-1]\n",
    "print word[-2]"
   ]
  },
  {
   "cell_type": "markdown",
   "metadata": {},
   "source": [
    "* Slicing is also supported."
   ]
  },
  {
   "cell_type": "code",
   "execution_count": 38,
   "metadata": {
    "collapsed": false
   },
   "outputs": [
    {
     "name": "stdout",
     "output_type": "stream",
     "text": [
      "ytho\n",
      "ython\n",
      "pytho\n",
      "hon\n"
     ]
    }
   ],
   "source": [
    "#  Get characters from position 1 to position 4 (4 characters)\n",
    "print word[1:5] # exclude 5\n",
    "# Get characters from position 1 to the end\n",
    "print word[1:]\n",
    "# Get all characters except the final character\n",
    "print word[:-1]\n",
    "# Get 3 last characters\n",
    "print word[-3:]"
   ]
  },
  {
   "cell_type": "markdown",
   "metadata": {},
   "source": [
    "* Python strings cannot be changed - they are **immutable**"
   ]
  },
  {
   "cell_type": "code",
   "execution_count": 47,
   "metadata": {
    "collapsed": false
   },
   "outputs": [
    {
     "ename": "TypeError",
     "evalue": "'str' object does not support item assignment",
     "output_type": "error",
     "traceback": [
      "\u001b[0;31m---------------------------------------------------------------------------\u001b[0m",
      "\u001b[0;31mTypeError\u001b[0m                                 Traceback (most recent call last)",
      "\u001b[0;32m<ipython-input-47-31dcbf8b41b8>\u001b[0m in \u001b[0;36m<module>\u001b[0;34m()\u001b[0m\n\u001b[1;32m      1\u001b[0m \u001b[0;31m# get error when trying to change\u001b[0m\u001b[0;34m\u001b[0m\u001b[0;34m\u001b[0m\u001b[0m\n\u001b[0;32m----> 2\u001b[0;31m \u001b[0mword\u001b[0m\u001b[0;34m[\u001b[0m\u001b[0;36m0\u001b[0m\u001b[0;34m]\u001b[0m \u001b[0;34m=\u001b[0m \u001b[0;34m'J'\u001b[0m\u001b[0;34m\u001b[0m\u001b[0m\n\u001b[0m",
      "\u001b[0;31mTypeError\u001b[0m: 'str' object does not support item assignment"
     ]
    }
   ],
   "source": [
    "# get error when trying to change \n",
    "word[0] = 'J'"
   ]
  },
  {
   "cell_type": "markdown",
   "metadata": {},
   "source": [
    "* But if you need a different string, you can create a new one"
   ]
  },
  {
   "cell_type": "code",
   "execution_count": 49,
   "metadata": {
    "collapsed": false
   },
   "outputs": [
    {
     "name": "stdout",
     "output_type": "stream",
     "text": [
      "Jython\n"
     ]
    }
   ],
   "source": [
    "print 'J' + word[1:]"
   ]
  },
  {
   "cell_type": "markdown",
   "metadata": {},
   "source": [
    "* **<code>len()</code>** function can be used to calculate length of string"
   ]
  },
  {
   "cell_type": "code",
   "execution_count": 41,
   "metadata": {
    "collapsed": false
   },
   "outputs": [
    {
     "name": "stdout",
     "output_type": "stream",
     "text": [
      "6\n"
     ]
    }
   ],
   "source": [
    "print len(word)"
   ]
  },
  {
   "cell_type": "markdown",
   "metadata": {},
   "source": [
    "### List\n",
    "\n",
    "* You can think it as array.\n",
    "* Can be defined as list of comma-separated values between square brackets\n",
    "* Might contain items of different types."
   ]
  },
  {
   "cell_type": "code",
   "execution_count": 35,
   "metadata": {
    "collapsed": false
   },
   "outputs": [
    {
     "name": "stdout",
     "output_type": "stream",
     "text": [
      "[1, 4, 9, 16, 25]\n"
     ]
    }
   ],
   "source": [
    "squares = [1, 4, 9, 16, 25]\n",
    "print squares"
   ]
  },
  {
   "cell_type": "markdown",
   "metadata": {},
   "source": [
    "* Like strings (and all other built-in sequence types), list can be indexed and sliced:"
   ]
  },
  {
   "cell_type": "code",
   "execution_count": 40,
   "metadata": {
    "collapsed": false
   },
   "outputs": [
    {
     "name": "stdout",
     "output_type": "stream",
     "text": [
      "1\n",
      "25\n",
      "[9, 16, 25]\n"
     ]
    }
   ],
   "source": [
    "print squares[0] # Indexing returns the item\n",
    "print squares[-1] \n",
    "print squares[-3:] # Slicing returns a new list"
   ]
  },
  {
   "cell_type": "markdown",
   "metadata": {},
   "source": [
    "* However, unlike strings, list are mutable type. It is possible to change their content"
   ]
  },
  {
   "cell_type": "code",
   "execution_count": 53,
   "metadata": {
    "collapsed": false
   },
   "outputs": [
    {
     "name": "stdout",
     "output_type": "stream",
     "text": [
      "[1, 8, 27, 65, 125]\n",
      "[1, 8, 27, 64, 125]\n"
     ]
    }
   ],
   "source": [
    "cubes = [1, 8, 27, 65, 125] # something's wrong here\n",
    "print cubes\n",
    "cubes[3] = 64\n",
    "print cubes"
   ]
  },
  {
   "cell_type": "markdown",
   "metadata": {},
   "source": [
    "* Concatenate lists using **<code>+</code>** operator\n",
    "* Add new items at the end of the list by using **<code>append()</code>** method\n",
    "* Calculate length of list using **<code>len()</code>** function"
   ]
  },
  {
   "cell_type": "code",
   "execution_count": 54,
   "metadata": {
    "collapsed": false
   },
   "outputs": [
    {
     "name": "stdout",
     "output_type": "stream",
     "text": [
      "[1, 4, 9, 16, 25, 36, 49]\n",
      "[1, 4, 9, 16, 25, 36]\n",
      "6\n"
     ]
    }
   ],
   "source": [
    "print squares + [36, 49]\n",
    "squares.append(36)\n",
    "print squares\n",
    "print len(squares)"
   ]
  },
  {
   "cell_type": "markdown",
   "metadata": {},
   "source": [
    "* Assignment to slices is also possible\n",
    "    + It can change the size of the list\n",
    "    + Or clear it entirely"
   ]
  },
  {
   "cell_type": "code",
   "execution_count": 58,
   "metadata": {
    "collapsed": false
   },
   "outputs": [
    {
     "name": "stdout",
     "output_type": "stream",
     "text": [
      "['a', 'b', 'c', 'd', 'e', 'f', 'g']\n",
      "['a', 'b', 'C', 'D', 'E', 'f', 'g']\n",
      "['a', 'b', 'f', 'g']\n"
     ]
    }
   ],
   "source": [
    "letters = ['a', 'b', 'c', 'd', 'e', 'f', 'g']\n",
    "print letters\n",
    "\n",
    "letters[2:5] = ['C', 'D', 'E']\n",
    "print letters\n",
    "\n",
    "letters[2:5] = []\n",
    "print letters"
   ]
  },
  {
   "cell_type": "code",
   "execution_count": null,
   "metadata": {
    "collapsed": true
   },
   "outputs": [],
   "source": []
  }
 ],
 "metadata": {
  "kernelspec": {
   "display_name": "Python 2",
   "language": "python",
   "name": "python2"
  },
  "language_info": {
   "codemirror_mode": {
    "name": "ipython",
    "version": 2
   },
   "file_extension": ".py",
   "mimetype": "text/x-python",
   "name": "python",
   "nbconvert_exporter": "python",
   "pygments_lexer": "ipython2",
   "version": "2.7.9"
  }
 },
 "nbformat": 4,
 "nbformat_minor": 0
}
