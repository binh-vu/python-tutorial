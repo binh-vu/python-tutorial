{
 "cells": [
  {
   "cell_type": "markdown",
   "metadata": {
    "slideshow": {
     "slide_type": "slide"
    }
   },
   "source": [
    "The current directory contains lots of \\*.pyc file. List all of file has extension pyc.\n",
    "\n",
    "Hint: \n",
    "* function <code>os.listdir(folder_path)</code> return all file in folder path\n",
    "* solution can write in one line"
   ]
  },
  {
   "cell_type": "code",
   "execution_count": 6,
   "metadata": {
    "collapsed": false,
    "slideshow": {
     "slide_type": "subslide"
    }
   },
   "outputs": [
    {
     "data": {
      "text/plain": [
       "['.DS_Store',\n",
       " '.git',\n",
       " '.gitignore',\n",
       " '.ipynb_checkpoints',\n",
       " '0.0_Introduction.ipynb',\n",
       " '0.0_Introduction.slides.html',\n",
       " '1.0_Control_Flows.html',\n",
       " '1.0_Control_Flows.ipynb',\n",
       " '1.0_Control_Flows.slides.html',\n",
       " '2.0_Functions.ipynb',\n",
       " '2.0_Functions.slides.html',\n",
       " '3.0_Data_structures.ipynb',\n",
       " '3.0_Data_structures.slides.html',\n",
       " '4.0_Modules.ipynb',\n",
       " '4.0_Modules.slides.html',\n",
       " '5.0_Practices.ipynb',\n",
       " 'assets',\n",
       " 'examples',\n",
       " 'LICENSE',\n",
       " 'main.py',\n",
       " 'main.pyc',\n",
       " 'module_a.py',\n",
       " 'module_a.pyc',\n",
       " 'module_b.py',\n",
       " 'module_b.pyc',\n",
       " 'README.md']"
      ]
     },
     "execution_count": 6,
     "metadata": {},
     "output_type": "execute_result"
    }
   ],
   "source": [
    "import os\n",
    "os.listdir('.')"
   ]
  },
  {
   "cell_type": "code",
   "execution_count": 5,
   "metadata": {
    "collapsed": false,
    "slideshow": {
     "slide_type": "subslide"
    }
   },
   "outputs": [
    {
     "data": {
      "text/plain": [
       "['main.pyc', 'module_a.pyc', 'module_b.pyc']"
      ]
     },
     "execution_count": 5,
     "metadata": {},
     "output_type": "execute_result"
    }
   ],
   "source": [
    "import os\n",
    "\n",
    "[fname for fname in os.listdir('.') if fname.endswith('.pyc')]"
   ]
  },
  {
   "cell_type": "markdown",
   "metadata": {
    "slideshow": {
     "slide_type": "slide"
    }
   },
   "source": [
    "Remove all \\*.pyc file\n",
    "\n",
    "Hint:\n",
    "* Using os.remove(file_path) function"
   ]
  },
  {
   "cell_type": "code",
   "execution_count": null,
   "metadata": {
    "collapsed": true,
    "slideshow": {
     "slide_type": "subslide"
    }
   },
   "outputs": [],
   "source": [
    "[os.remove(fname) for fname in os.listdir('.') if fname.endswith('.pyc')]"
   ]
  },
  {
   "cell_type": "code",
   "execution_count": null,
   "metadata": {
    "collapsed": true
   },
   "outputs": [],
   "source": []
  }
 ],
 "metadata": {
  "celltoolbar": "Slideshow",
  "kernelspec": {
   "display_name": "Python 2",
   "language": "python",
   "name": "python2"
  },
  "language_info": {
   "codemirror_mode": {
    "name": "ipython",
    "version": 2
   },
   "file_extension": ".py",
   "mimetype": "text/x-python",
   "name": "python",
   "nbconvert_exporter": "python",
   "pygments_lexer": "ipython2",
   "version": "2.7.9"
  }
 },
 "nbformat": 4,
 "nbformat_minor": 0
}
