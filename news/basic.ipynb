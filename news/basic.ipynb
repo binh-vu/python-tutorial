{
 "cells": [
  {
   "cell_type": "markdown",
   "id": "228bc37a",
   "metadata": {},
   "source": [
    "## Expression"
   ]
  },
  {
   "cell_type": "code",
   "execution_count": null,
   "id": "41f089ae",
   "metadata": {},
   "outputs": [],
   "source": []
  },
  {
   "cell_type": "markdown",
   "id": "798c5ee4",
   "metadata": {},
   "source": [
    "## Assignment\n",
    "\n",
    "#### Basic form\n",
    "\n",
    "`<variable> = <expression>`\n",
    "\n",
    "Example: a = 10"
   ]
  },
  {
   "cell_type": "markdown",
   "id": "7e29ea7e",
   "metadata": {},
   "source": [
    "#### Unpacking form of assignment statement\n",
    "\n",
    "`<tuple_of_variables> = <expression that return a tuple>`\n",
    "\n",
    "**What is a tuple?**\n",
    "\n",
    "List: `a = [1, 3, 5, 7, 9]`\n",
    "\n",
    "We can modify a list.\n",
    "\n",
    "Tuple: `a = (1, 3, 5, 7, 9)`\n",
    "\n",
    "We cannot modify a tuple. I.e., immutable list\n",
    "\n",
    "**Examples:**\n",
    "* `(a, b) = (5, 10)`\n",
    "* `(a, b) = ((5, 10), (15, 20))` is equivalent to:\n",
    "    * a = (5, 10)\n",
    "    * b = (15, 20)"
   ]
  },
  {
   "cell_type": "markdown",
   "id": "087ea522",
   "metadata": {},
   "source": [
    "#### Assigning to item or attribute of an object\n",
    "\n",
    "* Assigning n-th item in a list: `A[10] = 20`\n",
    "* Assigning to an attribute of an object: `O.name = 'hello'`\n",
    "\n",
    "The left-hand side of the assignment is an expression. It is equivalent to call a function `__setitem__` or `__setattr__`. More details about this later."
   ]
  },
  {
   "cell_type": "markdown",
   "id": "6f7fd388",
   "metadata": {},
   "source": [
    "## If statement\n",
    "\n",
    "```\n",
    "if <boolean expression>:\n",
    "    <block of statements>\n",
    "[else:\n",
    "    <block of statements>\n",
    "]\n",
    "```"
   ]
  },
  {
   "cell_type": "code",
   "execution_count": 1,
   "id": "478fcc78",
   "metadata": {},
   "outputs": [
    {
     "name": "stdout",
     "output_type": "stream",
     "text": [
      "10 is even\n"
     ]
    }
   ],
   "source": [
    "num = 10\n",
    "if num % 2 == 0:\n",
    "    print(num, \"is even\")\n",
    "else:\n",
    "    print(num, \"is odd\")"
   ]
  },
  {
   "cell_type": "markdown",
   "id": "a8a160d5",
   "metadata": {},
   "source": [
    "## For statement\n",
    "\n",
    "```\n",
    "for <variable_or_tuple_of_variable> in <sequence>:\n",
    "    <block of statements>\n",
    "```\n",
    "\n",
    "It is \"almost\" equivalent to:\n",
    "\n",
    "```\n",
    "<variable_or_tuple_of_variable> = <sequence>[0]\n",
    "<block of statements>\n",
    "<variable_or_tuple_of_variable> = <sequence>[1]\n",
    "<block of statements>\n",
    "...\n",
    "<variable_or_tuple_of_variable> = <sequence>[len(<sequence>) - 1]\n",
    "<block of statements>\n",
    "```"
   ]
  },
  {
   "cell_type": "code",
   "execution_count": 5,
   "id": "2791e67d",
   "metadata": {},
   "outputs": [
    {
     "name": "stdout",
     "output_type": "stream",
     "text": [
      "2\n",
      "6\n",
      "10\n",
      "14\n"
     ]
    }
   ],
   "source": [
    "A = [1, 3, 5, 7]\n",
    "for item in A:\n",
    "    x = item * 2\n",
    "    print(x)"
   ]
  },
  {
   "cell_type": "markdown",
   "id": "dd93e3e3",
   "metadata": {},
   "source": [
    "The above code is translated to\n",
    "\n",
    "```python\n",
    "item = A[0]\n",
    "x = item * 2\n",
    "print(x)\n",
    "item = A[1]\n",
    "x = item * 2\n",
    "print(x)\n",
    "item = A[2]\n",
    "x = item * 2\n",
    "print(x)\n",
    "item = A[3]\n",
    "x = item * 2\n",
    "print(x)\n",
    "```"
   ]
  },
  {
   "cell_type": "markdown",
   "id": "e9b0dbeb",
   "metadata": {},
   "source": [
    "## Function\n",
    "\n",
    "A function is a subprogram for us to reuse the code.\n",
    "\n",
    "Syntax for defining a function\n",
    "\n",
    "```\n",
    "def <function_name>(<variable> [, <variable>]*):\n",
    "    <block_of_statement>\n",
    "    [return <return_value>]\n",
    "```\n",
    "\n",
    "Syntax for calling a function\n",
    "\n",
    "`<function_name>(<expression> [, <expression>]*)`"
   ]
  },
  {
   "cell_type": "markdown",
   "id": "f4ca9164",
   "metadata": {},
   "source": [
    "**Examples**\n",
    "\n",
    "1. Create a function that returns the maximum value in a list (throw error if the list is empty)"
   ]
  },
  {
   "cell_type": "code",
   "execution_count": 3,
   "id": "85ed2711",
   "metadata": {},
   "outputs": [],
   "source": [
    "def max(list):\n",
    "    value = list[0]\n",
    "    for item in list:\n",
    "        if item > value:\n",
    "            value = item\n",
    "    return value"
   ]
  },
  {
   "cell_type": "code",
   "execution_count": 5,
   "id": "cfc7951f",
   "metadata": {},
   "outputs": [
    {
     "data": {
      "text/plain": [
       "10"
      ]
     },
     "execution_count": 5,
     "metadata": {},
     "output_type": "execute_result"
    }
   ],
   "source": [
    "max([5, 10, 7, 1])"
   ]
  },
  {
   "cell_type": "code",
   "execution_count": 7,
   "id": "e42f8507",
   "metadata": {},
   "outputs": [
    {
     "ename": "IndexError",
     "evalue": "list index out of range",
     "output_type": "error",
     "traceback": [
      "\u001b[0;31m---------------------------------------------------------------------------\u001b[0m",
      "\u001b[0;31mIndexError\u001b[0m                                Traceback (most recent call last)",
      "Input \u001b[0;32mIn [7]\u001b[0m, in \u001b[0;36m<module>\u001b[0;34m\u001b[0m\n\u001b[0;32m----> 1\u001b[0m \u001b[38;5;28;43mmax\u001b[39;49m\u001b[43m(\u001b[49m\u001b[43m[\u001b[49m\u001b[43m]\u001b[49m\u001b[43m)\u001b[49m\n",
      "Input \u001b[0;32mIn [3]\u001b[0m, in \u001b[0;36mmax\u001b[0;34m(list)\u001b[0m\n\u001b[1;32m      1\u001b[0m \u001b[38;5;28;01mdef\u001b[39;00m \u001b[38;5;21mmax\u001b[39m(\u001b[38;5;28mlist\u001b[39m):\n\u001b[0;32m----> 2\u001b[0m     value \u001b[38;5;241m=\u001b[39m \u001b[38;5;28;43mlist\u001b[39;49m\u001b[43m[\u001b[49m\u001b[38;5;241;43m0\u001b[39;49m\u001b[43m]\u001b[49m\n\u001b[1;32m      3\u001b[0m     \u001b[38;5;28;01mfor\u001b[39;00m item \u001b[38;5;129;01min\u001b[39;00m \u001b[38;5;28mlist\u001b[39m:\n\u001b[1;32m      4\u001b[0m         \u001b[38;5;28;01mif\u001b[39;00m item \u001b[38;5;241m>\u001b[39m value:\n",
      "\u001b[0;31mIndexError\u001b[0m: list index out of range"
     ]
    }
   ],
   "source": [
    "max([])"
   ]
  },
  {
   "cell_type": "code",
   "execution_count": 8,
   "id": "cb864737",
   "metadata": {},
   "outputs": [
    {
     "data": {
      "text/plain": [
       "10"
      ]
     },
     "execution_count": 8,
     "metadata": {},
     "output_type": "execute_result"
    }
   ],
   "source": [
    "a = [10, 7, 1]\n",
    "max(a)"
   ]
  },
  {
   "cell_type": "markdown",
   "id": "55162ec7",
   "metadata": {},
   "source": [
    "## List\n",
    "\n",
    "Example: `a = [1, 3, 5, 7]`\n",
    "\n",
    "**Get item in a list**: `<list>[<index>]`\n",
    "\n",
    "**Delete item in a list**: `<list>.pop(<index>)`\n",
    "\n",
    "**Append item into a list**: `<list>.append(<expr>)`\n",
    "\n",
    "**Create a list from i to j (exclusive)**: `list(range(i, j))`\n",
    "\n",
    "**Select a sublist from i to j (exclusive)**: `<list>[i:j]`\n",
    "\n",
    "**Length of a list**: `len(<list>)`\n",
    "\n",
    "**Negative index**"
   ]
  },
  {
   "cell_type": "code",
   "execution_count": 27,
   "id": "4dbda230",
   "metadata": {},
   "outputs": [
    {
     "name": "stdout",
     "output_type": "stream",
     "text": [
      "[1, 3, 5, 7]\n",
      "[1, 3, 5, 7, 10]\n"
     ]
    }
   ],
   "source": [
    "a = [1, 3, 5, 7]\n",
    "print(a)\n",
    "a.append(10)\n",
    "print(a)"
   ]
  },
  {
   "cell_type": "code",
   "execution_count": 28,
   "id": "b695c965",
   "metadata": {},
   "outputs": [
    {
     "data": {
      "text/plain": [
       "[5, 7, 10]"
      ]
     },
     "execution_count": 28,
     "metadata": {},
     "output_type": "execute_result"
    }
   ],
   "source": [
    "a[2:10]"
   ]
  },
  {
   "cell_type": "code",
   "execution_count": 29,
   "id": "0c626b42",
   "metadata": {},
   "outputs": [
    {
     "data": {
      "text/plain": [
       "[5, 7, 10]"
      ]
     },
     "execution_count": 29,
     "metadata": {},
     "output_type": "execute_result"
    }
   ],
   "source": [
    "a[2:]"
   ]
  },
  {
   "cell_type": "code",
   "execution_count": 35,
   "id": "ced00743",
   "metadata": {},
   "outputs": [
    {
     "name": "stdout",
     "output_type": "stream",
     "text": [
      "[1, 3, 5]\n",
      "[1, 3, 5]\n"
     ]
    }
   ],
   "source": [
    "print(a[:-2])\n",
    "print(a[:len(a) - 2])"
   ]
  },
  {
   "cell_type": "code",
   "execution_count": 30,
   "id": "c0216a02",
   "metadata": {},
   "outputs": [
    {
     "data": {
      "text/plain": [
       "[1, 3]"
      ]
     },
     "execution_count": 30,
     "metadata": {},
     "output_type": "execute_result"
    }
   ],
   "source": [
    "a[:2]"
   ]
  },
  {
   "cell_type": "code",
   "execution_count": 25,
   "id": "00c435a8",
   "metadata": {},
   "outputs": [
    {
     "data": {
      "text/plain": [
       "[0, 1, 2, 3, 4, 5, 6, 7, 8, 9]"
      ]
     },
     "execution_count": 25,
     "metadata": {},
     "output_type": "execute_result"
    }
   ],
   "source": [
    "list(range(0, 10))"
   ]
  },
  {
   "cell_type": "code",
   "execution_count": 26,
   "id": "7968f831",
   "metadata": {},
   "outputs": [
    {
     "data": {
      "text/plain": [
       "[7, 8, 9, 10]"
      ]
     },
     "execution_count": 26,
     "metadata": {},
     "output_type": "execute_result"
    }
   ],
   "source": [
    "list(range(7, 11))"
   ]
  },
  {
   "cell_type": "markdown",
   "id": "07a3d33e",
   "metadata": {},
   "source": [
    "introduction to object"
   ]
  },
  {
   "cell_type": "code",
   "execution_count": 11,
   "id": "1bd6b578",
   "metadata": {},
   "outputs": [
    {
     "ename": "SyntaxError",
     "evalue": "invalid syntax (294408025.py, line 1)",
     "output_type": "error",
     "traceback": [
      "\u001b[0;36m  Input \u001b[0;32mIn [11]\u001b[0;36m\u001b[0m\n\u001b[0;31m    5.append(7)\u001b[0m\n\u001b[0m      ^\u001b[0m\n\u001b[0;31mSyntaxError\u001b[0m\u001b[0;31m:\u001b[0m invalid syntax\n"
     ]
    }
   ],
   "source": [
    "5.append(7)"
   ]
  },
  {
   "cell_type": "code",
   "execution_count": 12,
   "id": "2ff82e84",
   "metadata": {},
   "outputs": [
    {
     "ename": "AttributeError",
     "evalue": "'int' object has no attribute 'append'",
     "output_type": "error",
     "traceback": [
      "\u001b[0;31m---------------------------------------------------------------------------\u001b[0m",
      "\u001b[0;31mAttributeError\u001b[0m                            Traceback (most recent call last)",
      "Input \u001b[0;32mIn [12]\u001b[0m, in \u001b[0;36m<module>\u001b[0;34m\u001b[0m\n\u001b[1;32m      1\u001b[0m b \u001b[38;5;241m=\u001b[39m \u001b[38;5;241m5\u001b[39m\n\u001b[0;32m----> 2\u001b[0m \u001b[43mb\u001b[49m\u001b[38;5;241;43m.\u001b[39;49m\u001b[43mappend\u001b[49m(\u001b[38;5;241m7\u001b[39m)\n",
      "\u001b[0;31mAttributeError\u001b[0m: 'int' object has no attribute 'append'"
     ]
    }
   ],
   "source": [
    "b = 5\n",
    "b.append(7)"
   ]
  },
  {
   "cell_type": "markdown",
   "id": "24bc5784",
   "metadata": {},
   "source": [
    "## Object\n",
    "\n",
    "* Integer: 5, 7, 10, ...\n",
    "\n",
    "* String: \"hello\", ...\n",
    "\n",
    "* List: [1, 2], ...\n",
    "\n",
    "A class defines type of an object."
   ]
  },
  {
   "cell_type": "code",
   "execution_count": 23,
   "id": "ecbda7f2",
   "metadata": {},
   "outputs": [],
   "source": [
    "r1 = [\"Laptop\", \"John\", 1000]\n",
    "r2 = [\"Desk\", \"John\", 500]\n",
    "r3 = [\"Lamp\", \"Smith\", 25]"
   ]
  },
  {
   "cell_type": "code",
   "execution_count": 15,
   "id": "5d7e2e05",
   "metadata": {},
   "outputs": [],
   "source": [
    "orders = [r1, r2, r3]"
   ]
  },
  {
   "cell_type": "code",
   "execution_count": 16,
   "id": "bf835bcb",
   "metadata": {},
   "outputs": [],
   "source": [
    "r3[2] = 20"
   ]
  },
  {
   "cell_type": "code",
   "execution_count": 18,
   "id": "a9d86f54",
   "metadata": {},
   "outputs": [
    {
     "name": "stdout",
     "output_type": "stream",
     "text": [
      "[['Laptop', 'John', 1000], ['Desk', 'John', '500'], ['Lamp', 'Smith', 20]]\n"
     ]
    }
   ],
   "source": [
    "print(orders)"
   ]
  },
  {
   "cell_type": "code",
   "execution_count": 20,
   "id": "e62aeea9",
   "metadata": {},
   "outputs": [],
   "source": [
    "r3.__setitem__(2, 15)"
   ]
  },
  {
   "cell_type": "code",
   "execution_count": 22,
   "id": "cf543335",
   "metadata": {},
   "outputs": [
    {
     "name": "stdout",
     "output_type": "stream",
     "text": [
      "[['Laptop', 'John', 1000], ['Desk', 'John', '500'], ['Lamp', 'Smith', 15]]\n"
     ]
    }
   ],
   "source": [
    "print(orders)"
   ]
  },
  {
   "cell_type": "markdown",
   "id": "cbf70b8a",
   "metadata": {},
   "source": [
    "**Exercises**\n",
    "\n",
    "1. Implement a function `is_symmetric` that returns if a list is symmetric"
   ]
  }
 ],
 "metadata": {
  "kernelspec": {
   "display_name": "Python 3.9.7 ('base')",
   "language": "python",
   "name": "python3"
  },
  "language_info": {
   "codemirror_mode": {
    "name": "ipython",
    "version": 3
   },
   "file_extension": ".py",
   "mimetype": "text/x-python",
   "name": "python",
   "nbconvert_exporter": "python",
   "pygments_lexer": "ipython3",
   "version": "3.9.7"
  },
  "vscode": {
   "interpreter": {
    "hash": "200bf4afe7a3ff68665f48868983644cd9463269baca176e023420a32ddf02f9"
   }
  }
 },
 "nbformat": 4,
 "nbformat_minor": 5
}
